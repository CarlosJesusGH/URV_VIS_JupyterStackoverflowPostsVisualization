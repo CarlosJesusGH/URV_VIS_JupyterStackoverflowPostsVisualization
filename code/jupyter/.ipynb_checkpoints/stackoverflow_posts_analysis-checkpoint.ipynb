{
 "cells": [
  {
   "cell_type": "markdown",
   "metadata": {},
   "source": [
    "# Importing libraries and declare important variables"
   ]
  },
  {
   "cell_type": "code",
   "execution_count": null,
   "metadata": {
    "collapsed": true
   },
   "outputs": [],
   "source": [
    "import numpy as np\n",
    "import pandas as pd\n",
    "import matplotlib.pyplot as plt\n",
    "import seaborn as sns\n",
    "from mpld3 import plugins\n",
    "import mpld3\n",
    "import networkx as nx\n",
    "import operator\n",
    "import ipywidgets as widgets\n",
    "from IPython.display import display\n",
    "from ipywidgets import interact\n",
    "%matplotlib inline\n",
    "mpld3.enable_notebook()\n",
    "\n",
    "# Declare main data variables\n",
    "column_names = ['quest_id', 'quest_user_id', 'quest_accepted_ans_id', 'quest_creation_date', 'quest_score', \n",
    "                'quest_view_count', 'quest_last_act_date', 'quest_answer_count', 'quest_comment_count', \n",
    "                'quest_favorite_count', 'quest_id', 'ans_id', 'ans_user_id', 'ans_parent_id', \n",
    "                'ans_creation_date', 'ans_score', 'ans_last_act_date', 'ans_comment_count']\n",
    "date_columns = ['quest_creation_date', 'quest_last_act_date', 'ans_creation_date', 'ans_last_act_date']"
   ]
  },
  {
   "cell_type": "markdown",
   "metadata": {},
   "source": [
    "# Create a graph for an specific network using the user_ids as nodes\n",
    "Here we are working with the question creator user id and the accepted answer user id."
   ]
  },
  {
   "cell_type": "code",
   "execution_count": null,
   "metadata": {
    "scrolled": false
   },
   "outputs": [],
   "source": [
    "@interact\n",
    "def top_users(topic=['ros', 'android', 'apache-spark', 'arduino', 'c++', 'java', 'linux', 'mongodb', \n",
    "                     'python', 'raspberry-pi']):    \n",
    "    qa = pd.read_csv('~/Downloads/vis_stackoverflow/filtered_data/' + topic + '/qa-' + topic + '.txt', '\\t', \n",
    "                         names=column_names, parse_dates= date_columns)\n",
    "    # Create a graph using the question user id and the accepted answer user id\n",
    "    G = nx.from_pandas_dataframe(qa[['quest_user_id', 'ans_user_id']], 'quest_user_id', 'ans_user_id')\n",
    "    # Computing the degree for every node\n",
    "    deg = nx.degree(G)    \n",
    "    df = pd.DataFrame.from_dict(deg, orient='index')\n",
    "    df.columns = ['answered questions']\n",
    "    # Ordering to find the most influential users\n",
    "    df = df.sort_values(by='answered questions', ascending=False)\n",
    "    print(topic + \" results, most influential users are: \\n\")\n",
    "    print(df.head(10))"
   ]
  },
  {
   "cell_type": "markdown",
   "metadata": {},
   "source": [
    "# Plot the degree distribution of the selected graph"
   ]
  },
  {
   "cell_type": "code",
   "execution_count": null,
   "metadata": {},
   "outputs": [],
   "source": [
    "@interact\n",
    "\n",
    "# def top_users(topic=['ros', 'android', 'apache-spark', 'arduino', 'c++', 'java', 'linux', 'mongodb', 'python', 'raspberry-pi']):   \n",
    "def top_users(topic=['apache-spark']):       \n",
    "    qa = pd.read_csv('~/Downloads/vis_stackoverflow/filtered_data/' + topic + '/qa-' + topic + '.txt', '\\t', \n",
    "                         names=column_names, parse_dates= date_columns)\n",
    "    # Create a graph using the question user id and the accepted answer user id\n",
    "    G = nx.from_pandas_dataframe(qa[['quest_user_id', 'ans_user_id']], 'quest_user_id', 'ans_user_id')    \n",
    "    # Compute the degree sequence\n",
    "    degree_sequence=sorted(nx.degree(G).values(),reverse=True) # degree sequence    \n",
    "    dmax=max(degree_sequence)\n",
    "    # Plot the degree distribution\n",
    "    plt.loglog(degree_sequence,'b-',marker='o')\n",
    "    plt.title(\"Degree rank plot (\" + topic + \")\")\n",
    "    plt.ylabel(\"degree\")\n",
    "    plt.xlabel(\"rank\")\n"
   ]
  },
  {
   "cell_type": "markdown",
   "metadata": {},
   "source": [
    "# Draw the graph\n",
    "This drawing tool only works well while using small networks like the one for 'ros' topic or 'raspberry-pi', otherwise it might last a lot of time plotting."
   ]
  },
  {
   "cell_type": "code",
   "execution_count": null,
   "metadata": {},
   "outputs": [],
   "source": [
    "topic = 'ros'\n",
    "qa = pd.read_csv('~/Downloads/vis_stackoverflow/filtered_data/' + topic + '/qa-' + topic + '.txt', '\\t', \n",
    "                     names=column_names, parse_dates= date_columns)\n",
    "\n",
    "#Create a graph using the question user id and the accepted answer user id\n",
    "G = nx.from_pandas_dataframe(qa[['quest_user_id', 'ans_user_id']], 'quest_user_id', 'ans_user_id')\n",
    "pos = nx.spring_layout(G)\n",
    "fig, ax = plt.subplots(figsize=(12, 9), subplot_kw=dict(facecolor='#EEEEEE'))\n",
    "cent = nx.degree_centrality(G)\n",
    "scatter = nx.draw_networkx_nodes(G, pos, ax=ax, node_size=[v * 20000 for v in cent.values()])\n",
    "nx.draw_networkx_edges(G, pos, ax=ax)\n",
    "# Setup plot and display\n",
    "ax.grid(color='white', linestyle='solid')\n",
    "ax.set_title(\"Node size represent their degree centrality\", size=20)\n",
    "labels = G.nodes()\n",
    "tooltip = mpld3.plugins.PointLabelTooltip(scatter, labels=labels)\n",
    "mpld3.plugins.connect(fig, tooltip)\n",
    "mpld3.display()"
   ]
  },
  {
   "cell_type": "markdown",
   "metadata": {},
   "source": [
    "# Plot the evolution of the topics over the years"
   ]
  },
  {
   "cell_type": "code",
   "execution_count": null,
   "metadata": {
    "scrolled": false
   },
   "outputs": [],
   "source": [
    "# Create new figure\n",
    "fig, ax = plt.subplots(figsize=(9, 7), dpi=100) \n",
    "fig.subplots_adjust(right=0.7)\n",
    "ax.grid(True, alpha=0.3)\n",
    "\n",
    "# Loop over array of topics\n",
    "# topics = ['ros', 'arduino', 'apache-spark']    # smallest sets\n",
    "topics = ['android', 'apache-spark', 'arduino', 'c++', 'java', 'linux', 'mongodb', 'python', 'raspberry-pi', 'ros']\n",
    "for topic in topics:\n",
    "    # Load data from files\n",
    "    qa = pd.read_csv('~/Downloads/vis_stackoverflow/filtered_data/' + topic + '/qa-' + topic + '.txt', '\\t', \n",
    "                     names=column_names, parse_dates= date_columns)\n",
    "    monthly_count = qa.resample('M', on='quest_creation_date').count()\n",
    "    monthly_sum = qa[['quest_creation_date', 'quest_score']].resample('M', on='quest_creation_date').sum().fillna(0)\n",
    "    # Plot data using the same figure\n",
    "    l, = ax.plot(monthly_count.index, monthly_count['quest_id'], label=topic)\n",
    "    ax.fill_between(monthly_count.index, monthly_count['quest_id'] - (monthly_sum['quest_score'] / 20), \n",
    "                    monthly_count['quest_id'] + (monthly_sum['quest_score'] / 20), \n",
    "                    color=l.get_color(), alpha=.4)\n",
    "    \n",
    "# Define interactive legend\n",
    "handles, labels = ax.get_legend_handles_labels() # return lines and labels\n",
    "interactive_legend = plugins.InteractiveLegendPlugin(zip(handles, ax.collections), labels, alpha_unsel=0.5,\n",
    "                                                     alpha_over=1.5, start_visible=True)\n",
    "plugins.connect(fig, interactive_legend)\n",
    "# Setup the axis and display the plot\n",
    "ax.set_xlabel('Yearly/Monthly')\n",
    "ax.set_ylabel('Nr of questions')  \n",
    "mpld3.display()"
   ]
  },
  {
   "cell_type": "markdown",
   "metadata": {},
   "source": [
    "# Scatter plot comparisson"
   ]
  },
  {
   "cell_type": "code",
   "execution_count": null,
   "metadata": {
    "scrolled": false
   },
   "outputs": [],
   "source": [
    "# Create new figure\n",
    "fig, ax = plt.subplots(figsize=(9, 7), dpi=100, subplot_kw=dict(facecolor='#EEEEEE')) \n",
    "# fig, ax = plt.subplots(subplot_kw=dict(facecolor='#EEEEEE')) \n",
    "labels = []; xs = []; ys = []; sizes = []\n",
    "# fig.subplots_adjust(right=0.7)\n",
    "ax.grid(True, alpha=0.3)\n",
    "\n",
    "# Loop over array of topics\n",
    "# topics = ['ros', 'arduino', 'apache-spark']    # smallest sets\n",
    "topics = ['android', 'apache-spark', 'arduino', 'c++', 'java', 'linux', 'mongodb', 'python', 'raspberry-pi', 'ros']\n",
    "for topic in topics:\n",
    "    # Load data from files\n",
    "    qa = pd.read_csv('~/Downloads/vis_stackoverflow/filtered_data/' + topic + '/qa-' + topic + '.txt', '\\t', \n",
    "                     names=column_names, parse_dates= date_columns)\n",
    "    # Append new values to arrays used in scatter plot    \n",
    "    total_count = qa.count()    \n",
    "    total_sum = qa[['quest_score', 'ans_score']].sum()        \n",
    "    xs.append(total_sum['quest_score'])\n",
    "    ys.append(total_sum['ans_score'])\n",
    "    sizes.append(total_count['quest_id'] / 100)\n",
    "    labels.append(topic + \" (total questions = \" + str(total_count['quest_id']) + \")\")\n",
    "    \n",
    "# Create scatter plot\n",
    "scatter = ax.scatter(xs,\n",
    "                     ys,\n",
    "                     c=np.random.random(size=len(topics)),\n",
    "                     s= sizes,\n",
    "                     alpha=0.3,\n",
    "                     cmap=plt.cm.jet)\n",
    "# Setup plot and display\n",
    "ax.grid(color='white', linestyle='solid')\n",
    "ax.set_title(\"Circle size represent total question number per topic\", size=20)\n",
    "ax.set_xlabel('Total question score')\n",
    "ax.set_ylabel('Total answer score') \n",
    "tooltip = mpld3.plugins.PointLabelTooltip(scatter, labels=labels)\n",
    "mpld3.plugins.connect(fig, tooltip)\n",
    "mpld3.display()"
   ]
  }
 ],
 "metadata": {
  "kernelspec": {
   "display_name": "Python 3",
   "language": "python",
   "name": "python3"
  },
  "language_info": {
   "codemirror_mode": {
    "name": "ipython",
    "version": 3
   },
   "file_extension": ".py",
   "mimetype": "text/x-python",
   "name": "python",
   "nbconvert_exporter": "python",
   "pygments_lexer": "ipython3",
   "version": "3.6.0"
  }
 },
 "nbformat": 4,
 "nbformat_minor": 2
}
